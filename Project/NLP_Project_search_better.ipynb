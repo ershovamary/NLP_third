{
  "nbformat": 4,
  "nbformat_minor": 0,
  "metadata": {
    "colab": {
      "name": "NLP_Project_search_better.ipynb",
      "provenance": [],
      "collapsed_sections": []
    },
    "kernelspec": {
      "display_name": "Python 3",
      "language": "python",
      "name": "python3"
    },
    "language_info": {
      "codemirror_mode": {
        "name": "ipython",
        "version": 3
      },
      "file_extension": ".py",
      "mimetype": "text/x-python",
      "name": "python",
      "nbconvert_exporter": "python",
      "pygments_lexer": "ipython3",
      "version": "3.8.2"
    }
  },
  "cells": [
    {
      "cell_type": "code",
      "metadata": {
        "id": "KB1sPz5QnQ91",
        "outputId": "3b18927e-4c74-4352-b522-4d3e148f9a02",
        "colab": {
          "base_uri": "https://localhost:8080/",
          "height": 105
        }
      },
      "source": [
        "!pip install pymorphy2"
      ],
      "execution_count": 5,
      "outputs": [
        {
          "output_type": "stream",
          "text": [
            "Requirement already satisfied: pymorphy2 in /usr/local/lib/python3.6/dist-packages (0.9.1)\n",
            "Requirement already satisfied: docopt>=0.6 in /usr/local/lib/python3.6/dist-packages (from pymorphy2) (0.6.2)\n",
            "Requirement already satisfied: dawg-python>=0.7.1 in /usr/local/lib/python3.6/dist-packages (from pymorphy2) (0.7.2)\n",
            "Requirement already satisfied: pymorphy2-dicts-ru<3.0,>=2.4 in /usr/local/lib/python3.6/dist-packages (from pymorphy2) (2.4.417127.4579844)\n"
          ],
          "name": "stdout"
        }
      ]
    },
    {
      "cell_type": "code",
      "metadata": {
        "id": "Jp0rjuAEjgmA"
      },
      "source": [
        "import json\n",
        "import pymorphy2\n",
        "\n",
        "morph = pymorphy2.MorphAnalyzer()\n",
        "\n",
        "with open('corporaora.txt') as json_file:\n",
        "    end_s = json.load(json_file)"
      ],
      "execution_count": 6,
      "outputs": []
    },
    {
      "cell_type": "code",
      "metadata": {
        "id": "hvVRJx2QiEWQ"
      },
      "source": [
        "tags = ['NOUN', 'ADJF', 'ADJS', 'COMP', 'VERB', 'INFN', 'PRTF', 'PRTS', 'GRND', 'NUMR', 'ADVB', 'NPRO', 'PRED', 'PREP', 'CONJ', 'PRCL', 'INTJ']\n",
        "\n",
        "def is_suitable(pattern, some, place):\n",
        "  \"\"\" Searches task in corpora. \"\"\"\n",
        "  if \"+\" in pattern:\n",
        "      i = pattern.find(\"+\")\n",
        "      word = pattern[:i]\n",
        "      tag = pattern[i+1:]\n",
        "      normie = morph.parse(word)[0].normal_form\n",
        "      if tag in some[4][place] and normie == some[3][place]:\n",
        "          return True\n",
        "  elif pattern in tags:\n",
        "      if pattern in some[4][place]:\n",
        "          return True\n",
        "  elif pattern[0] == '\"':\n",
        "      pattern = pattern[1:-1]\n",
        "      if pattern == some[2][place]:\n",
        "          return True\n",
        "  else:\n",
        "      normie = morph.parse(pattern)[0].normal_form\n",
        "      if normie == some[3][place]:\n",
        "          return True\n",
        "  return False"
      ],
      "execution_count": 8,
      "outputs": []
    },
    {
      "cell_type": "code",
      "metadata": {
        "id": "n9XUZ6ULinm3"
      },
      "source": [
        "def search(some):\n",
        "  \"\"\" Handles with query: separates into tasks. \"\"\"\n",
        "  tasks = some.split()\n",
        "  ans = []\n",
        "  for some in end_s:\n",
        "      for i in range(max(0, len(some[3]) - len(tasks) + 1)):\n",
        "          u = True\n",
        "          for j in range(len(tasks)):\n",
        "              if not (is_suitable(tasks[j], some, i+j)):\n",
        "                  u = False\n",
        "                  break\n",
        "          if u:\n",
        "              ans.append(some)\n",
        "              break\n",
        "              \n",
        "  return ans"
      ],
      "execution_count": 10,
      "outputs": []
    },
    {
      "cell_type": "code",
      "metadata": {
        "id": "_J_yCoibiqw-"
      },
      "source": [
        "def beautiful(ans):\n",
        "  \"\"\" Converts answer into readable line. \"\"\"\n",
        "  res = []\n",
        "  for some in ans:\n",
        "      res.append('Source: ' + str(some[0]) + '; Sentence: ' + str(some[1]))\n",
        "  return '\\n'.join(res)"
      ],
      "execution_count": 11,
      "outputs": []
    },
    {
      "cell_type": "code",
      "metadata": {
        "id": "TQVOltbelgod",
        "outputId": "4ded050c-6b73-4be0-b640-3aa0d466090e",
        "colab": {
          "base_uri": "https://localhost:8080/",
          "height": 139
        }
      },
      "source": [
        "\"\"\" Cell for search. \"\"\"\n",
        "query = input()\n",
        "\n",
        "result = beautiful(search(query))\n",
        "print(result)"
      ],
      "execution_count": 47,
      "outputs": [
        {
          "output_type": "stream",
          "text": [
            "собака мой ADJF\n",
            "Source: Письмо 13. А. П. ЧЕХОВ - О. Л. КНИППЕР 4 декабря 1902 г. Ялта; Sentence: Здравствуй, собака моя сердитая, мой песик лютый!\n",
            "Source: Письмо 56. А. П. ЧЕХОВ - О. Л. КНИППЕР 7 января 1903 г. Ялта; Sentence: Актрисуля, собака моя милая, Фомка, здравствуй!\n",
            "Source: Письмо 85. А. П. ЧЕХОВ - О. Л. КНИППЕР 26 января 1903 г. Ялта; Sentence: Дуся моя, необыкновенная, собака моя милая, значит, ты согласна в Швейцарию, вообще попутешествовать вместе?\n",
            "Source: Письмо 139. А. П. ЧЕХОВ - О. Л. КНИППЕР 17 марта 1903 г. Ялта; Sentence: ...Теперь, радость, собака моя добрая, просьба, за которую, конечно, ты не поблагодаришь меня.\n",
            "Source: Письмо 163. А. П. ЧЕХОВ - О. Л. КНИППЕР 11 апреля, 1903 г. Ялта; Sentence: Здравствуй, собака моя дивная, спасибо тебе большое, большое, сейчас получил от тебя два письма.\n"
          ],
          "name": "stdout"
        }
      ]
    }
  ]
}