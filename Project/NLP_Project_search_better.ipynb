{
  "nbformat": 4,
  "nbformat_minor": 0,
  "metadata": {
    "colab": {
      "name": "NLP_Project_search_better.ipynb",
      "provenance": [],
      "collapsed_sections": []
    },
    "kernelspec": {
      "display_name": "Python 3",
      "language": "python",
      "name": "python3"
    },
    "language_info": {
      "codemirror_mode": {
        "name": "ipython",
        "version": 3
      },
      "file_extension": ".py",
      "mimetype": "text/x-python",
      "name": "python",
      "nbconvert_exporter": "python",
      "pygments_lexer": "ipython3",
      "version": "3.8.2"
    }
  },
  "cells": [
    {
      "cell_type": "code",
      "metadata": {
        "id": "KB1sPz5QnQ91",
        "outputId": "9a335f50-c51b-4085-fcfa-0e49539b2d64",
        "colab": {
          "base_uri": "https://localhost:8080/",
          "height": 105
        }
      },
      "source": [
        "!pip install pymorphy2"
      ],
      "execution_count": null,
      "outputs": [
        {
          "output_type": "stream",
          "text": [
            "Requirement already satisfied: pymorphy2 in /usr/local/lib/python3.6/dist-packages (0.9.1)\n",
            "Requirement already satisfied: pymorphy2-dicts-ru<3.0,>=2.4 in /usr/local/lib/python3.6/dist-packages (from pymorphy2) (2.4.417127.4579844)\n",
            "Requirement already satisfied: dawg-python>=0.7.1 in /usr/local/lib/python3.6/dist-packages (from pymorphy2) (0.7.2)\n",
            "Requirement already satisfied: docopt>=0.6 in /usr/local/lib/python3.6/dist-packages (from pymorphy2) (0.6.2)\n"
          ],
          "name": "stdout"
        }
      ]
    },
    {
      "cell_type": "code",
      "metadata": {
        "id": "Jp0rjuAEjgmA"
      },
      "source": [
        "import json\n",
        "import pymorphy2\n",
        "\n",
        "morph = pymorphy2.MorphAnalyzer()\n",
        "\n",
        "with open('corpORAORA.txt') as json_file:\n",
        "    end_s = json.load(json_file)"
      ],
      "execution_count": 11,
      "outputs": []
    },
    {
      "cell_type": "code",
      "metadata": {
        "id": "hvVRJx2QiEWQ"
      },
      "source": [
        "tags = ['NOUN', 'ADJF', 'ADJS', 'COMP', 'VERB', 'INFN', 'PRTF', 'PRTS', 'GRND', 'NUMR', 'ADVB', 'NPRO', 'PRED', 'PREP', 'CONJ', 'PRCL', 'INTJ']\n",
        "\n",
        "def is_suitable(pattern, some, place):\n",
        "    if \"+\" in pattern:\n",
        "        i = pattern.find(\"+\")\n",
        "        word = pattern[:i]\n",
        "        tag = pattern[i+1:]\n",
        "        normie = morph.parse(word)[0].normal_form\n",
        "        if tag in some[4][place] and normie == some[3][place]:\n",
        "            return True\n",
        "    elif pattern in tags:\n",
        "        if pattern in some[4][place]:\n",
        "            return True\n",
        "    elif pattern[0] == '\"':\n",
        "        pattern = pattern[1:-1]\n",
        "        if pattern == some[2][place]:\n",
        "            return True\n",
        "    else:\n",
        "        normie = morph.parse(pattern)[0].normal_form\n",
        "        if normie == some[3][place]:\n",
        "            return True\n",
        "    return False"
      ],
      "execution_count": 13,
      "outputs": []
    },
    {
      "cell_type": "code",
      "metadata": {
        "id": "n9XUZ6ULinm3"
      },
      "source": [
        "def search(some):\n",
        "    tasks = some.split()\n",
        "    ans = []\n",
        "    for some in end_s:\n",
        "        for i in range(max(0, len(some[3]) - len(tasks) + 1)):\n",
        "            u = True\n",
        "            for j in range(len(tasks)):\n",
        "                if not (is_suitable(tasks[j], some, i+j)):\n",
        "                    u = False\n",
        "                    break\n",
        "            if u:\n",
        "                ans.append(some)\n",
        "                break\n",
        "                \n",
        "    return ans"
      ],
      "execution_count": 14,
      "outputs": []
    },
    {
      "cell_type": "code",
      "metadata": {
        "id": "_J_yCoibiqw-"
      },
      "source": [
        "def beautiful(ans):\n",
        "    res = []\n",
        "    for some in ans:\n",
        "        res.append('Source: ' + str(some[0]) + '; Sentence: ' + str(some[1]))\n",
        "    return '\\n'.join(res)"
      ],
      "execution_count": 15,
      "outputs": []
    },
    {
      "cell_type": "code",
      "metadata": {
        "id": "TQVOltbelgod",
        "outputId": "d6aa8315-0097-41e7-c1e5-c32269f70e5f",
        "colab": {
          "base_uri": "https://localhost:8080/",
          "height": 241
        }
      },
      "source": [
        "query = input()\n",
        "\n",
        "result = beautiful(search(query))\n",
        "print(result)"
      ],
      "execution_count": 16,
      "outputs": [
        {
          "output_type": "stream",
          "text": [
            "красивый+ADJF NOUN\n",
            "Source: Письмо 4*. О. Л. КНИППЕР - А. П. ЧЕХОВУ 28 ноября 1902 г. Москва; Sentence: Нет красивого мужа с мягкими глазами.\n",
            "Source: Письмо 25*. О. Л. КНИППЕР - А. П. ЧЕХОВУ 1O декабря 1902 г. Москва; Sentence: Целую твою голову и красивые руки.\n",
            "Source: Письмо 32. А. П. ЧЕХОВ - О. Л. КНИППЕР 15 декабря 1902 г. Ялта; Sentence: Дусик, если ты мне жена, то, когда я приеду в Москву, распорядись сшить мне шубу из какого-нибудь теплого, ио легкого и красивого меха, например, хоть из лиры.\n",
            "Source: Письмо 48*. О. Л. КНИППЕР - А. П. ЧЕХОВУ 30 декабря 1902 г. Москва; Sentence: По манерам - американка с смелыми, даже рискованными, но красивыми манерами.\n",
            "Source: Письмо 89. А. П. ЧЕХОВ - О. Л. КНИППЕР 30 января 1903 г. Ялта; Sentence: Главное - красивое место и климат, имей сие в виду.\n",
            "Source: Письмо 101 *. О. Л. КНИППЕР - А. П. ЧЕХОВУ 9 февраля 190В г. Москва; Sentence: Красивый перевод (Перевод трагедии Шелли «Ченчи»).\n",
            "Source: Письмо 184. А. П. ЧЕХОВ - О. Л. КНИППЕР 21 сентября 1903 г. Ялта; Sentence: Он очень крупный, красивый, шерсть блестит и вообще прелестен.\n",
            "Source: Письмо 197. О. Л. КНИППЕР - А. П. ЧЕХОВУ 29 сентября 1903 г. Москва; Sentence: У Кассия - Леонидова характерная голова, и было бы все хорошо, если-бы говорил своим настоящим красивым голосом, а то тоже шипит и напрягает голос.\n",
            "Source: Письмо 199. О. Л. КНИППЕР - А. П. ЧЕХОВУ 30 сентября 1903 г. Москва; Sentence: Вечером вчера шел удивительно красивый снег, точно бриллианты сыпались.\n",
            "Source: Письмо 211. А. П. ЧЕХОВ - О. Л. КНИППЕР 7 октября 1903 г. Ялта; Sentence: Вчера приезжала ко мне Ольга Михайловна (О. М. Соловьева), красивая дама, нужно было поговорить о деле, о попечительстве в гурзуфской школе; о деле мы говорили только пять минут, но сидела она у меня три часа буквально.\n",
            "Source: Письмо 217. О. Л. КНИППЕР - А. П. ЧЕХОВУ 12 октября 1903 г. Москва; Sentence: Вересаев с женой, Голоугаев, Бунины братья, Телешов, Найденов, Зайцев, Росинский, присяжный поверенный Сталь с красивой женой и который заговорил меня за ужином, М. Ф. Желябужская с Женичкои, какой-то доктор Добров, какие-то дамы.\n"
          ],
          "name": "stdout"
        }
      ]
    }
  ]
}