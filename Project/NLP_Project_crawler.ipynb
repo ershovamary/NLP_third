{
  "nbformat": 4,
  "nbformat_minor": 0,
  "metadata": {
    "colab": {
      "name": "NLP_Project_crawler.ipynb",
      "provenance": [],
      "collapsed_sections": []
    },
    "kernelspec": {
      "display_name": "Python 3",
      "language": "python",
      "name": "python3"
    },
    "language_info": {
      "codemirror_mode": {
        "name": "ipython",
        "version": 3
      },
      "file_extension": ".py",
      "mimetype": "text/x-python",
      "name": "python",
      "nbconvert_exporter": "python",
      "pygments_lexer": "ipython3",
      "version": "3.8.2"
    }
  },
  "cells": [
    {
      "cell_type": "code",
      "metadata": {
        "id": "iLppTG4cPucK",
        "outputId": "bc13f224-f9b4-48ef-869c-1e172bc54090",
        "colab": {
          "base_uri": "https://localhost:8080/",
          "height": 224
        }
      },
      "source": [
        "!pip install pymorphy2"
      ],
      "execution_count": 1,
      "outputs": [
        {
          "output_type": "stream",
          "text": [
            "Collecting pymorphy2\n",
            "\u001b[?25l  Downloading https://files.pythonhosted.org/packages/07/57/b2ff2fae3376d4f3c697b9886b64a54b476e1a332c67eee9f88e7f1ae8c9/pymorphy2-0.9.1-py3-none-any.whl (55kB)\n",
            "\u001b[K     |████████████████████████████████| 61kB 1.3MB/s \n",
            "\u001b[?25hCollecting dawg-python>=0.7.1\n",
            "  Downloading https://files.pythonhosted.org/packages/6a/84/ff1ce2071d4c650ec85745766c0047ccc3b5036f1d03559fd46bb38b5eeb/DAWG_Python-0.7.2-py2.py3-none-any.whl\n",
            "Requirement already satisfied: docopt>=0.6 in /usr/local/lib/python3.6/dist-packages (from pymorphy2) (0.6.2)\n",
            "Collecting pymorphy2-dicts-ru<3.0,>=2.4\n",
            "\u001b[?25l  Downloading https://files.pythonhosted.org/packages/3a/79/bea0021eeb7eeefde22ef9e96badf174068a2dd20264b9a378f2be1cdd9e/pymorphy2_dicts_ru-2.4.417127.4579844-py2.py3-none-any.whl (8.2MB)\n",
            "\u001b[K     |████████████████████████████████| 8.2MB 4.8MB/s \n",
            "\u001b[?25hInstalling collected packages: dawg-python, pymorphy2-dicts-ru, pymorphy2\n",
            "Successfully installed dawg-python-0.7.2 pymorphy2-0.9.1 pymorphy2-dicts-ru-2.4.417127.4579844\n"
          ],
          "name": "stdout"
        }
      ]
    },
    {
      "cell_type": "code",
      "metadata": {
        "id": "TLsu3z5qQAHj",
        "outputId": "9418e57b-c980-4151-8925-23b83fc6dc1b",
        "colab": {
          "base_uri": "https://localhost:8080/",
          "height": 68
        }
      },
      "source": [
        "import pymorphy2\n",
        "import nltk\n",
        "from urllib.request import urlopen\n",
        "from bs4 import BeautifulSoup\n",
        "import re\n",
        "import json\n",
        "\n",
        "morph = pymorphy2.MorphAnalyzer()\n",
        "nltk.download('punkt')"
      ],
      "execution_count": 2,
      "outputs": [
        {
          "output_type": "stream",
          "text": [
            "[nltk_data] Downloading package punkt to /root/nltk_data...\n",
            "[nltk_data]   Unzipping tokenizers/punkt.zip.\n"
          ],
          "name": "stdout"
        },
        {
          "output_type": "execute_result",
          "data": {
            "text/plain": [
              "True"
            ]
          },
          "metadata": {
            "tags": []
          },
          "execution_count": 2
        }
      ]
    },
    {
      "cell_type": "code",
      "metadata": {
        "id": "CufHWoLRQYh1"
      },
      "source": [
        "def collect_text(url):\n",
        "  \"\"\"Downloads html from given url, gets text of letter and source,\n",
        "    clears everything else, split text into sentences.\n",
        "  \"\"\"\n",
        "  html = urlopen(url).read()\n",
        "  soup = BeautifulSoup(html, features=\"html.parser\")\n",
        "\n",
        "  for script in soup([\"script\", \"style\"]):\n",
        "    script.extract()\n",
        "  text = soup.get_text()\n",
        "\n",
        "  lines = (line.strip() for line in text.splitlines())\n",
        "  chunks = (phrase.strip() for line in lines for phrase in line.split(\"  \"))\n",
        "  def is_date(o):\n",
        "    x = o.split()\n",
        "    if len(x) < 2:\n",
        "      return False\n",
        "    x = x[-2]\n",
        "    if(len(x) == 4 and x[0] == '1' and x[1] == '9'):\n",
        "      return True\n",
        "    return False\n",
        "\n",
        "  source = ''\n",
        "\n",
        "  kill = False\n",
        "\n",
        "  def TCHEKHOV(chunk):\n",
        "    if 'ЧЕХОВ' in chunk:\n",
        "      return True\n",
        "    return False\n",
        "  \n",
        "  tch = ''\n",
        "\n",
        "  for chunk in (chunks):\n",
        "    if TCHEKHOV(chunk):\n",
        "      tch = chunk\n",
        "    if kill and chunk:\n",
        "      source += chunk\n",
        "      chunk = None\n",
        "      break\n",
        "    if is_date(chunk):\n",
        "      source += (chunk)\n",
        "      source += ' '\n",
        "      chunk = None\n",
        "      kill = True\n",
        "    else:\n",
        "      chunk = None\n",
        "\n",
        "\n",
        "  erase = False\n",
        "\n",
        "  def eraser(chunk):\n",
        "    nonlocal erase\n",
        "    if chunk == 'ПОИСК:':\n",
        "      erase = True\n",
        "    if erase:\n",
        "      return False\n",
        "    if not chunk:\n",
        "      return False\n",
        "    return True\n",
        "\n",
        "  text = '\\n'.join(chunk for chunk in chunks if eraser(chunk))\n",
        "\n",
        "  sentences = nltk.tokenize.sent_tokenize(text)\n",
        "  source = \"Письмо \" + tch + ' ' + source\n",
        "  return source, sentences"
      ],
      "execution_count": 3,
      "outputs": []
    },
    {
      "cell_type": "code",
      "metadata": {
        "id": "Vrn9HBO4RL8d"
      },
      "source": [
        "def annotate_text(source, sentences):\n",
        "  \"\"\" Parses given sentences using pymorphy and creates corpora. \"\"\"\n",
        "  end_s = []\n",
        "  for s in sentences:\n",
        "    original = s\n",
        "    original = original.lower()\n",
        "    p = ',:@.-()/!'\n",
        "    original_cleaned = original\n",
        "    for i in p:\n",
        "      original_cleaned = original_cleaned.replace(i, '')\n",
        "    original_splitted = [ i for i in re.split(r'\\W+',original) if i]\n",
        "    \n",
        "    lemmatized = []\n",
        "    for j in original_splitted:\n",
        "        lemmatized.append(morph.parse(j)[0].normal_form)\n",
        "    tags = []\n",
        "    for word in original_splitted:   \n",
        "        tag = morph.parse(word)[0].tag\n",
        "        tags.append(str(tag))\n",
        "    end_s.append((source, s, original_splitted, lemmatized, tags))\n",
        "  return end_s"
      ],
      "execution_count": 4,
      "outputs": []
    },
    {
      "cell_type": "code",
      "metadata": {
        "id": "ZR_-7_F5R3am"
      },
      "source": [
        "def main():\n",
        "  \"\"\"Creates file.txt with information about each sentence\n",
        "    in each letter downloaded from given url if it is suitable.\n",
        "    \"\"\"\n",
        "  corpora = []\n",
        "  total_quantity_of_words = 0\n",
        "  for i in range(24, 354):\n",
        "    if i == 193 or i == 194 or i == 202 or i == 203 or i == 204 or i == 205 or i == 313 or i == 326:\n",
        "      continue\n",
        "    if i < 100:\n",
        "      url = 'http://apchekhov.ru/books/item/f00/s00/z0000020/st0' + str(i) + '.shtml'\n",
        "    else:\n",
        "      url = 'http://apchekhov.ru/books/item/f00/s00/z0000020/st' + str(i) + '.shtml'\n",
        "    source, sentences = collect_text(url)\n",
        "    annotated_text = annotate_text(source, sentences)\n",
        "    for s in annotated_text:\n",
        "      total_quantity_of_words += len(s[3])\n",
        "    corpora += (annotated_text)\n",
        "  \n",
        "  data = corpora\n",
        "\n",
        "  with open('corporaora.txt', 'w') as outfile:\n",
        "      json.dump(data, outfile)\n",
        "\n",
        "  with open('corporaora.txt') as json_file:\n",
        "      data = json.load(json_file)\n",
        "      print(data[:10], total_quantity_of_words)"
      ],
      "execution_count": 10,
      "outputs": []
    },
    {
      "cell_type": "code",
      "metadata": {
        "id": "RA95V93elHwY",
        "outputId": "fd42ebf1-547c-4c94-e2e8-67f0964430be",
        "colab": {
          "base_uri": "https://localhost:8080/",
          "height": 54
        }
      },
      "source": [
        "if __name__ == '__main__':\n",
        "    main()"
      ],
      "execution_count": 11,
      "outputs": [
        {
          "output_type": "stream",
          "text": [
            "[['Письмо 2*. О. Л. КНИППЕР-А. П. ЧЕХОВУ 27 ноября 1902 г. Москва', 'Голубчик мой, дуся моя, опять ты уехал... Я одна, сижу в спальной и строчу.', ['голубчик', 'мой', 'дуся', 'моя', 'опять', 'ты', 'уехал', 'я', 'одна', 'сижу', 'в', 'спальной', 'и', 'строчу'], ['голубчик', 'мой', 'дуся', 'мой', 'опять', 'ты', 'уехать', 'я', 'один', 'сидеть', 'в', 'спальная', 'и', 'строчить'], ['NOUN,anim,masc sing,nomn', 'ADJF,Apro masc,sing,nomn', 'NOUN,anim,femn,Name sing,nomn', 'ADJF,Apro femn,sing,nomn', 'ADVB', 'NPRO,2per sing,nomn', 'VERB,perf,intr masc,sing,past,indc', 'NPRO,1per sing,nomn', 'ADJF,Apro,Anum femn,sing,nomn', 'VERB,impf,intr sing,1per,pres,indc', 'PREP', 'NOUN,inan,femn sing,gent', 'CONJ', 'VERB,impf,tran sing,1per,pres,indc']], ['Письмо 2*. О. Л. КНИППЕР-А. П. ЧЕХОВУ 27 ноября 1902 г. Москва', 'Все тихо.', ['все', 'тихо'], ['всё', 'тихо'], ['PRCL', 'ADVB']], ['Письмо 2*. О. Л. КНИППЕР-А. П. ЧЕХОВУ 27 ноября 1902 г. Москва', 'Ты, верно, около Орла, или уже в нем.', ['ты', 'верно', 'около', 'орла', 'или', 'уже', 'в', 'нем'], ['ты', 'верно', 'около', 'орёл', 'или', 'уже', 'в', 'немой'], ['NPRO,2per sing,nomn', 'CONJ,Prnt', 'PREP', 'NOUN,anim,masc sing,gent', 'CONJ', 'ADVB', 'PREP', 'ADJS,Qual masc,sing']], ['Письмо 2*. О. Л. КНИППЕР-А. П. ЧЕХОВУ 27 ноября 1902 г. Москва', 'Мне так многое хотелось бы тебе сказать, и чувствую, что ничего не напишу толком, как-то дико сразу писать, а не говорить.', ['мне', 'так', 'многое', 'хотелось', 'бы', 'тебе', 'сказать', 'и', 'чувствую', 'что', 'ничего', 'не', 'напишу', 'толком', 'как', 'то', 'дико', 'сразу', 'писать', 'а', 'не', 'говорить'], ['я', 'так', 'многое', 'хотеться', 'бы', 'ты', 'сказать', 'и', 'чувствовать', 'что', 'ничего', 'не', 'написать', 'толком', 'как', 'то', 'дико', 'сразу', 'писать', 'а', 'не', 'говорить'], ['NPRO,1per sing,datv', 'CONJ', 'NPRO,neut sing,accs', 'VERB,impf,intr,Impe neut,sing,past,indc', 'PRCL', 'NPRO,2per sing,datv', 'INFN,perf,tran', 'CONJ', 'VERB,impf,tran sing,1per,pres,indc', 'CONJ', 'ADVB', 'PRCL', 'VERB,perf,tran sing,1per,futr,indc', 'ADVB', 'CONJ', 'CONJ', 'ADVB', 'ADVB', 'INFN,impf,tran', 'CONJ', 'PRCL', 'INFN,impf,tran']], ['Письмо 2*. О. Л. КНИППЕР-А. П. ЧЕХОВУ 27 ноября 1902 г. Москва', 'Отвыкла.', ['отвыкла'], ['отвыкнуть'], ['VERB,perf,intr femn,sing,past,indc']], ['Письмо 2*. О. Л. КНИППЕР-А. П. ЧЕХОВУ 27 ноября 1902 г. Москва', 'У меня так врезалось в памяти твое чудное лицо в окне вагона!', ['у', 'меня', 'так', 'врезалось', 'в', 'памяти', 'твое', 'чудное', 'лицо', 'в', 'окне', 'вагона'], ['у', 'я', 'так', 'врезаться', 'в', 'память', 'твой', 'чудной', 'лицо', 'в', 'окно', 'вагон'], ['PREP', 'NPRO,1per sing,accs', 'CONJ', 'VERB,perf,intr neut,sing,past,indc', 'PREP', 'NOUN,inan,femn sing,gent', 'ADJF,Apro neut,sing,nomn', 'ADJF,Qual neut,sing,nomn', 'NOUN,inan,neut sing,accs', 'PREP', 'NOUN,inan,neut sing,loct', 'NOUN,inan,masc sing,gent']], ['Письмо 2*. О. Л. КНИППЕР-А. П. ЧЕХОВУ 27 ноября 1902 г. Москва', 'Такое красивое, мягкое, изящное, красивое чем-то внутренним, точно то сияет в тебе.', ['такое', 'красивое', 'мягкое', 'изящное', 'красивое', 'чем', 'то', 'внутренним', 'точно', 'то', 'сияет', 'в', 'тебе'], ['такой', 'красивый', 'мягкий', 'изящный', 'красивый', 'чем', 'то', 'внутренний', 'точно', 'то', 'сиять', 'в', 'ты'], ['ADJF,Apro neut,sing,nomn', 'ADJF,Qual neut,sing,nomn', 'ADJF,Qual neut,sing,nomn', 'ADJF,Qual neut,sing,nomn', 'ADJF,Qual neut,sing,nomn', 'CONJ', 'CONJ', 'ADJF masc,sing,ablt', 'ADVB', 'CONJ', 'VERB,impf,intr sing,3per,pres,indc', 'PREP', 'NPRO,2per sing,datv']], ['Письмо 2*. О. Л. КНИППЕР-А. П. ЧЕХОВУ 27 ноября 1902 г. Москва', 'Мне так хочется говорить тебе все самое хорошее, самое красивое, самое любовное.', ['мне', 'так', 'хочется', 'говорить', 'тебе', 'все', 'самое', 'хорошее', 'самое', 'красивое', 'самое', 'любовное'], ['я', 'так', 'хотеться', 'говорить', 'ты', 'всё', 'самый', 'хороший', 'самый', 'красивый', 'самый', 'любовный'], ['NPRO,1per sing,datv', 'CONJ', 'VERB,impf,intr,Impe sing,pres,indc', 'INFN,impf,tran', 'NPRO,2per sing,datv', 'PRCL', 'ADJF,Apro neut,sing,nomn', 'ADJF,Qual neut,sing,accs', 'ADJF,Apro neut,sing,nomn', 'ADJF,Qual neut,sing,nomn', 'ADJF,Apro neut,sing,nomn', 'ADJF,Qual neut,sing,nomn']], ['Письмо 2*. О. Л. КНИППЕР-А. П. ЧЕХОВУ 27 ноября 1902 г. Москва', 'Мне больно за каждую неприятную минуту, которую я доставила тебе, дорогой мой.', ['мне', 'больно', 'за', 'каждую', 'неприятную', 'минуту', 'которую', 'я', 'доставила', 'тебе', 'дорогой', 'мой'], ['я', 'больно', 'за', 'каждый', 'неприятный', 'минута', 'который', 'я', 'доставить', 'ты', 'дорога', 'мой'], ['NPRO,1per sing,datv', 'ADVB,Prdx', 'PREP', 'ADJF,Subx,Apro femn,sing,accs', 'ADJF,Qual femn,sing,accs', 'NOUN,inan,femn sing,accs', 'ADJF,Subx,Apro,Anph femn,sing,accs', 'NPRO,1per sing,nomn', 'VERB,perf,tran femn,sing,past,indc', 'NPRO,2per sing,datv', 'NOUN,inan,femn sing,ablt', 'ADJF,Apro masc,sing,nomn']], ['Письмо 2*. О. Л. КНИППЕР-А. П. ЧЕХОВУ 27 ноября 1902 г. Москва', 'Целую тебя.', ['целую', 'тебя'], ['целый', 'ты'], ['ADJF,Qual femn,sing,accs', 'NPRO,2per sing,accs']]] 81459\n"
          ],
          "name": "stdout"
        }
      ]
    }
  ]
}